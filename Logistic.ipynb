{
 "cells": [
  {
   "cell_type": "code",
   "execution_count": 1,
   "metadata": {},
   "outputs": [],
   "source": [
    "import os\n",
    "import pandas as pd\n",
    "from azure.identity.aio import ManagedIdentityCredential\n",
    "cred = ManagedIdentityCredential()\n",
    "opts = {'account_name': 'datalakestorage7nrw9r', 'credential': cred, 'anon': False}\n",
    "folder_path = \"abfs://datalakegen2filesystem/analytics/connectedcar/chenha01/Churn/\"\n",
    "\n",
    "train = pd.read_csv(folder_path + 'trainOneMonth.csv', delimiter=',', storage_options=opts)\n",
    "test = pd.read_csv(folder_path + 'testOneMonth.csv', delimiter=',', storage_options=opts)\n",
    "valid = pd.read_csv(folder_path + 'validOneMonth.csv', delimiter=',', storage_options=opts)"
   ]
  },
  {
   "cell_type": "code",
   "execution_count": 2,
   "metadata": {},
   "outputs": [],
   "source": [
    "from sklearn import linear_model"
   ]
  },
  {
   "cell_type": "code",
   "execution_count": 3,
   "metadata": {},
   "outputs": [
    {
     "name": "stdout",
     "output_type": "stream",
     "text": [
      "[INFO] converting into woe values ...\n",
      "Woe transformating on 51760 rows and 1640 columns in 00:03:33\n",
      "[INFO] converting into woe values ...\n",
      "Woe transformating on 22184 rows and 1640 columns in 00:01:27\n",
      "[INFO] converting into woe values ...\n",
      "Woe transformating on 15846 rows and 1640 columns in 00:01:03\n"
     ]
    }
   ],
   "source": [
    "OneMonthbins = pd.read_csv(folder_path + 'OneMonthbinsMixOldNew.csv', delimiter=',', storage_options=opts)\n",
    "# convert OneMonthbins into dictionary, with variable as key, the vraiable's dataframe as value\n",
    "columns = OneMonthbins['variable'].unique()\n",
    "OneMonthbins_dict = {}\n",
    "for col in columns:\n",
    "    OneMonthbins_dict[col] = OneMonthbins[OneMonthbins['variable'] == col]\n",
    "# apply OneMonthbins\n",
    "import scorecardpy as sc\n",
    "train_woe = sc.woebin_ply(train, OneMonthbins_dict)\n",
    "train_woe['OneMonth_target'] = train['OneMonth_target']\n",
    "valid_woe = sc.woebin_ply(valid, OneMonthbins_dict)\n",
    "valid_woe['OneMonth_target'] = valid['OneMonth_target']\n",
    "test_woe = sc.woebin_ply(test, OneMonthbins_dict)\n",
    "test_woe['OneMonth_target'] = test['OneMonth_target']"
   ]
  },
  {
   "cell_type": "code",
   "execution_count": 4,
   "metadata": {},
   "outputs": [
    {
     "name": "stdout",
     "output_type": "stream",
     "text": [
      "['countallvehicles', 'countallvehiclesaddedpast1mth', 'countallvehiclesaddedpast2mths', 'countallvehiclesaddedpast3mths', 'countallvehiclesaddedpast6mths', 'countallvehiclesaddedpast12mths', 'countallvehiclesaddedpast24mths', 'countallvehiclesaddedpast36mths', 'countallvehiclesaddedpast48mths', 'countallvehiclesaddedpast60mths', 'countallvehiclespurchasednew', 'countallvehiclespurchasednewaddedpast1mth', 'countallvehiclespurchasednewaddedpast2mths', 'countallvehiclespurchasednewaddedpast3mths', 'countallvehiclespurchasednewaddedpast6mths', 'countallvehiclespurchasednewaddedpast12mths', 'countallvehiclespurchasednewaddedpast24mths', 'countallvehiclespurchasednewaddedpast36mths', 'countallvehiclespurchasednewaddedpast48mths', 'countallvehiclespurchasednewaddedpast60mths', 'countallvehiclespurchasedused', 'countallvehiclespurchasedusedaddedpast1mth', 'countallvehiclespurchasedusedaddedpast2mths', 'countallvehiclespurchasedusedaddedpast3mths', 'countallvehiclespurchasedusedaddedpast6mths', 'countallvehiclespurchasedusedaddedpast12mths', 'countallvehiclespurchasedusedaddedpast24mths', 'countallvehiclespurchasedusedaddedpast36mths', 'countallvehiclespurchasedusedaddedpast48mths', 'countallvehiclespurchasedusedaddedpast60mths', 'countactivevehicles', 'countactivevehiclesaddedpast1mth', 'countactivevehiclesaddedpast2mths', 'countactivevehiclesaddedpast3mths', 'countactivevehiclesaddedpast6mths', 'countactivevehiclesaddedpast12mths', 'countactivevehiclesaddedpast24mths', 'countactivevehiclesaddedpast36mths', 'countactivevehiclesaddedpast48mths', 'countactivevehiclesaddedpast60mths', 'countactivevehiclespurchasednew', 'countactivevehiclespurchasednewaddedpast1mth', 'countactivevehiclespurchasednewaddedpast2mths', 'countactivevehiclespurchasednewaddedpast3mths', 'countactivevehiclespurchasednewaddedpast6mths', 'countactivevehiclespurchasednewaddedpast12mths', 'countactivevehiclespurchasednewaddedpast24mths', 'countactivevehiclespurchasednewaddedpast36mths', 'countactivevehiclespurchasednewaddedpast48mths', 'countactivevehiclespurchasednewaddedpast60mths', 'countactivevehiclespurchasedused', 'countactivevehiclespurchasedusedaddedpast1mth', 'countactivevehiclespurchasedusedaddedpast2mths', 'countactivevehiclespurchasedusedaddedpast3mths', 'countactivevehiclespurchasedusedaddedpast6mths', 'countactivevehiclespurchasedusedaddedpast12mths', 'countactivevehiclespurchasedusedaddedpast24mths', 'countactivevehiclespurchasedusedaddedpast36mths', 'countactivevehiclespurchasedusedaddedpast48mths', 'countactivevehiclespurchasedusedaddedpast60mths', 'countdisposedvehiclesremovedpast1mth', 'countdisposedvehiclesremovedpast2mth', 'countdisposedvehiclesremovedpast3mth', 'countdisposedvehiclesremovedpast6mth', 'countdisposedvehiclesremovedpast12mth', 'countdisposedvehiclesremovedpast24mth', 'countdisposedvehiclesremovedpast36mth', 'countdisposedvehiclesremovedpast48mth', 'countdisposedvehiclesremovedpast60mth', 'pctactivevehiclespurchasednewderived', 'pctallvehiclespurchasednewderived', 'pctpurchasednewincreasederived', 'pctactivevehiclesderived', 'pctactivevehiclesaddedpast1mthderived', 'pctactivevehiclesaddedpast2mthderived', 'pctactivevehiclesaddedpast3mthderived', 'pctactivevehiclesaddedpast6mthderived', 'pctactivevehiclesaddedpast12mthderived', 'pctactivevehiclesaddedpast24mthderived', 'pctactivevehiclesaddedpast36mthderived', 'pctactivevehiclesaddedpast48mthderived', 'pctactivevehiclesaddedpast60mthderived', 'pctactivevehiclespurchasednewaddedpast1mthderived', 'pctactivevehiclespurchasednewaddedpast2mthderived', 'pctactivevehiclespurchasednewaddedpast3mthderived', 'pctactivevehiclespurchasednewaddedpast6mthderived', 'pctactivevehiclespurchasednewaddedpast12mthderived', 'pctactivevehiclespurchasednewaddedpast24mthderived', 'pctactivevehiclespurchasednewaddedpast36mthderived', 'pctactivevehiclespurchasednewaddedpast48mthderived', 'pctactivevehiclespurchasednewaddedpast60mthderived', 'pctdisposedvehiclesremovedpast1mthderived', 'pctdisposedvehiclesremovedpast2mthderived', 'pctdisposedvehiclesremovedpast3mthderived', 'pctdisposedvehiclesremovedpast6mthderived', 'pctdisposedvehiclesremovedpast12mthderived', 'pctdisposedvehiclesremovedpast24mthderived', 'pctdisposedvehiclesremovedpast36mthderived', 'pctdisposedvehiclesremovedpast48mthderived', 'pctdisposedvehiclesremovedpast60mthderived', 'countallvehiclessedan', 'countallvehiclessuv', 'countallvehiclespickup', 'countallvehiclespurchasednewsedan', 'countallvehiclespurchasedusedsedan', 'countallvehiclespurchasednewsuv', 'countallvehiclespurchasedusedsuv', 'countallvehiclespurchasednewpickup', 'countallvehiclespurchasedusedpickup', 'countallvehiclespurchasednewsedanaddedpast1mth', 'countallvehiclespurchasednewsedanaddedpast2mths', 'countallvehiclespurchasednewsedanaddedpast3mths', 'countallvehiclespurchasednewsedanaddedpast6mths', 'countallvehiclespurchasednewsedanaddedpast12mths', 'countallvehiclespurchasednewsedanaddedpast24mths', 'countallvehiclespurchasednewsedanaddedpast36mths', 'countallvehiclespurchasednewsedanaddedpast48mths', 'countallvehiclespurchasednewsedanaddedpast60mths', 'countallvehiclespurchasednewsuvaddedpast1mth', 'countallvehiclespurchasednewsuvaddedpast2mths', 'countallvehiclespurchasednewsuvaddedpast3mths', 'countallvehiclespurchasednewsuvaddedpast6mths', 'countallvehiclespurchasednewsuvaddedpast12mths', 'countallvehiclespurchasednewsuvaddedpast24mths', 'countallvehiclespurchasednewsuvaddedpast36mths', 'countallvehiclespurchasednewsuvaddedpast48mths', 'countallvehiclespurchasednewsuvaddedpast60mths', 'countallvehiclespurchasednewpickupaddedpast1mth', 'countallvehiclespurchasednewpickupaddedpast2mths', 'countallvehiclespurchasednewpickupaddedpast3mths', 'countallvehiclespurchasednewpickupaddedpast6mths', 'countallvehiclespurchasednewpickupaddedpast12mths', 'countallvehiclespurchasednewpickupaddedpast24mths', 'countallvehiclespurchasednewpickupaddedpast36mths', 'countallvehiclespurchasednewpickupaddedpast48mths', 'countallvehiclespurchasednewpickupaddedpast60mths', 'countallvehiclespurchasedusedsedanaddedpast1mth', 'countallvehiclespurchasedusedsedanaddedpast2mths', 'countallvehiclespurchasedusedsedanaddedpast3mths', 'countallvehiclespurchasedusedsedanaddedpast6mths', 'countallvehiclespurchasedusedsedanaddedpast12mths', 'countallvehiclespurchasedusedsedanaddedpast24mths', 'countallvehiclespurchasedusedsedanaddedpast36mths', 'countallvehiclespurchasedusedsedanaddedpast48mths', 'countallvehiclespurchasedusedsedanaddedpast60mths', 'countallvehiclespurchasedusedsuvaddedpast1mth', 'countallvehiclespurchasedusedsuvaddedpast2mths', 'countallvehiclespurchasedusedsuvaddedpast3mths', 'countallvehiclespurchasedusedsuvaddedpast6mths', 'countallvehiclespurchasedusedsuvaddedpast12mths', 'countallvehiclespurchasedusedsuvaddedpast24mths', 'countallvehiclespurchasedusedsuvaddedpast36mths', 'countallvehiclespurchasedusedsuvaddedpast48mths', 'countallvehiclespurchasedusedsuvaddedpast60mths', 'countallvehiclespurchasedusedpickupaddedpast1mth', 'countallvehiclespurchasedusedpickupaddedpast2mths', 'countallvehiclespurchasedusedpickupaddedpast3mths', 'countallvehiclespurchasedusedpickupaddedpast6mths', 'countallvehiclespurchasedusedpickupaddedpast12mths', 'countallvehiclespurchasedusedpickupaddedpast24mths', 'countallvehiclespurchasedusedpickupaddedpast36mths', 'countallvehiclespurchasedusedpickupaddedpast48mths', 'countallvehiclespurchasedusedpickupaddedpast60mths', 'countallvehiclesgas', 'countallvehicleshybrid', 'countallvehiclesev', 'countallvehiclessedangas', 'countallvehiclessuvgas', 'countallvehiclespickupgas', 'countallvehiclessedanhybrid', 'countallvehiclessuvhybrid', 'countallvehiclespickuphybrid', 'countallvehiclessedanev', 'countallvehiclessuvev', 'countallvehiclespickupev', 'countallvehiclesgasaddedpast1mth', 'countallvehiclesgasaddedpast2mths', 'countallvehiclesgasaddedpast3mths', 'countallvehiclesgasaddedpast6mths', 'countallvehiclesgasaddedpast12mths', 'countallvehiclesgasaddedpast24mths', 'countallvehiclesgasaddedpast36mths', 'countallvehiclesgasaddedpast48mths', 'countallvehiclesgasaddedpast60mths', 'countallvehicleshybridaddedpast1mth', 'countallvehicleshybridaddedpast2mths', 'countallvehicleshybridaddedpast3mths', 'countallvehicleshybridaddedpast6mths', 'countallvehicleshybridaddedpast12mths', 'countallvehicleshybridaddedpast24mths', 'countallvehicleshybridaddedpast36mths', 'countallvehicleshybridaddedpast48mths', 'countallvehicleshybridaddedpast60mths', 'countallvehiclesevaddedpast1mth', 'countallvehiclesevaddedpast2mths', 'countallvehiclesevaddedpast3mths', 'countallvehiclesevaddedpast6mths', 'countallvehiclesevaddedpast12mths', 'countallvehiclesevaddedpast24mths', 'countallvehiclesevaddedpast36mths', 'countallvehiclesevaddedpast48mths', 'countallvehiclesevaddedpast60mths', 'countallvehicleslux', 'countallvehiclesnonlux', 'countallvehiclespurchasednewlux', 'countallvehiclespurchasednewnonlux', 'countallvehiclespurchasedusedlux', 'countallvehiclespurchasedusednonlux', 'countallvehiclespurchasednewluxaddedpast1mth', 'countallvehiclespurchasednewluxaddedpast2mths', 'countallvehiclespurchasednewluxaddedpast3mths', 'countallvehiclespurchasednewluxaddedpast6mths', 'countallvehiclespurchasednewluxaddedpast12mths', 'countallvehiclespurchasednewluxaddedpast24mths', 'countallvehiclespurchasednewluxaddedpast36mths', 'countallvehiclespurchasednewluxaddedpast48mths', 'countallvehiclespurchasednewluxaddedpast60mths', 'countallvehiclespurchasedusedluxaddedpast1mth', 'countallvehiclespurchasedusedluxaddedpast2mths', 'countallvehiclespurchasedusedluxaddedpast3mths', 'countallvehiclespurchasedusedluxaddedpast6mths', 'countallvehiclespurchasedusedluxaddedpast12mths', 'countallvehiclespurchasedusedluxaddedpast24mths', 'countallvehiclespurchasedusedluxaddedpast36mths', 'countallvehiclespurchasedusedluxaddedpast48mths', 'countallvehiclespurchasedusedluxaddedpast60mths', 'countallvehiclespurchasednewnonluxaddedpast1mth', 'countallvehiclespurchasednewnonluxaddedpast2mths', 'countallvehiclespurchasednewnonluxaddedpast3mths', 'countallvehiclespurchasednewnonluxaddedpast6mths', 'countallvehiclespurchasednewnonluxaddedpast12mths', 'countallvehiclespurchasednewnonluxaddedpast24mths', 'countallvehiclespurchasednewnonluxaddedpast36mths', 'countallvehiclespurchasednewnonluxaddedpast48mths', 'countallvehiclespurchasednewnonluxaddedpast60mths', 'countallvehiclespurchasedusednonluxaddedpast1mth', 'countallvehiclespurchasedusednonluxaddedpast2mths', 'countallvehiclespurchasedusednonluxaddedpast3mths', 'countallvehiclespurchasedusednonluxaddedpast6mths', 'countallvehiclespurchasedusednonluxaddedpast12mths', 'countallvehiclespurchasedusednonluxaddedpast24mths', 'countallvehiclespurchasedusednonluxaddedpast36mths', 'countallvehiclespurchasedusednonluxaddedpast48mths', 'countallvehiclespurchasedusednonluxaddedpast60mths', 'countallvehiclesasian', 'countallvehicleseuropean', 'countallvehiclesamerican', 'countallvehiclespurchasednewasian', 'countallvehiclespurchasedneweuropean', 'countallvehiclespurchasednewamerican', 'countallvehiclespurchasedusedasian', 'countallvehiclespurchasedusedeuropean', 'countallvehiclespurchasedusedamerican', 'countallvehiclespurchasednewasianaddedpast1mth', 'countallvehiclespurchasednewasianaddedpast2mths', 'countallvehiclespurchasednewasianaddedpast3mths', 'countallvehiclespurchasednewasianaddedpast6mths', 'countallvehiclespurchasednewasianaddedpast12mths', 'countallvehiclespurchasednewasianaddedpast24mths', 'countallvehiclespurchasednewasianaddedpast36mths', 'countallvehiclespurchasednewasianaddedpast48mths', 'countallvehiclespurchasednewasianaddedpast60mths', 'countallvehiclespurchasedusedasianaddedpast1mth', 'countallvehiclespurchasedusedasianaddedpast2mths', 'countallvehiclespurchasedusedasianaddedpast3mths', 'countallvehiclespurchasedusedasianaddedpast6mths', 'countallvehiclespurchasedusedasianaddedpast12mths', 'countallvehiclespurchasedusedasianaddedpast24mths', 'countallvehiclespurchasedusedasianaddedpast36mths', 'countallvehiclespurchasedusedasianaddedpast48mths', 'countallvehiclespurchasedusedasianaddedpast60mths', 'countallvehiclespurchasedneweuropeanaddedpast1mth', 'countallvehiclespurchasedneweuropeanaddedpast2mths', 'countallvehiclespurchasedneweuropeanaddedpast3mths', 'countallvehiclespurchasedneweuropeanaddedpast6mths', 'countallvehiclespurchasedneweuropeanaddedpast12mths', 'countallvehiclespurchasedneweuropeanaddedpast24mths', 'countallvehiclespurchasedneweuropeanaddedpast36mths', 'countallvehiclespurchasedneweuropeanaddedpast48mths', 'countallvehiclespurchasedneweuropeanaddedpast60mths', 'countallvehiclespurchasedusedeuropeanaddedpast1mth', 'countallvehiclespurchasedusedeuropeanaddedpast2mths', 'countallvehiclespurchasedusedeuropeanaddedpast3mths', 'countallvehiclespurchasedusedeuropeanaddedpast6mths', 'countallvehiclespurchasedusedeuropeanaddedpast12mths', 'countallvehiclespurchasedusedeuropeanaddedpast24mths', 'countallvehiclespurchasedusedeuropeanaddedpast36mths', 'countallvehiclespurchasedusedeuropeanaddedpast48mths', 'countallvehiclespurchasedusedeuropeanaddedpast60mths', 'countallvehiclespurchasednewamericanaddedpast1mth', 'countallvehiclespurchasednewamericanaddedpast2mths', 'countallvehiclespurchasednewamericanaddedpast3mths', 'countallvehiclespurchasednewamericanaddedpast6mths', 'countallvehiclespurchasednewamericanaddedpast12mths', 'countallvehiclespurchasednewamericanaddedpast24mths', 'countallvehiclespurchasednewamericanaddedpast36mths', 'countallvehiclespurchasednewamericanaddedpast48mths', 'countallvehiclespurchasednewamericanaddedpast60mths', 'countallvehiclespurchasedusedamericanaddedpast1mth', 'countallvehiclespurchasedusedamericanaddedpast2mths', 'countallvehiclespurchasedusedamericanaddedpast3mths', 'countallvehiclespurchasedusedamericanaddedpast6mths', 'countallvehiclespurchasedusedamericanaddedpast12mths', 'countallvehiclespurchasedusedamericanaddedpast24mths', 'countallvehiclespurchasedusedamericanaddedpast36mths', 'countallvehiclespurchasedusedamericanaddedpast48mths', 'countallvehiclespurchasedusedamericanaddedpast60mths', 'countactivevehiclessedan', 'countactivevehiclessuv', 'countactivevehiclespickup', 'countactivevehiclespurchasednewsedan', 'countactivevehiclespurchasedusedsedan', 'countactivevehiclespurchasednewsuv', 'countactivevehiclespurchasedusedsuv', 'countactivevehiclespurchasednewpickup', 'countactivevehiclespurchasedusedpickup', 'countactivevehiclesgas', 'countactivevehicleshybrid', 'countactivevehiclesev', 'countactivevehiclessedangas', 'countactivevehiclessuvgas', 'countactivevehiclespickupgas', 'countactivevehiclessedanhybrid', 'countactivevehiclessuvhybrid', 'countactivevehiclespickuphybrid', 'countactivevehiclessedanev', 'countactivevehiclessuvev', 'countactivevehiclespickupev', 'countactivevehicleslux', 'countactivevehiclesnonlux', 'countactivevehiclespurchasednewlux', 'countactivevehiclespurchasednewnonlux', 'countactivevehiclespurchasedusedlux', 'countactivevehiclespurchasedusednonlux', 'countactivevehiclesasian', 'countactivevehicleseuropean', 'countactivevehiclesamerican', 'countactivevehiclespurchasednewasian', 'countactivevehiclespurchasedneweuropean', 'countactivevehiclespurchasednewamerican', 'countactivevehiclespurchasedusedasian', 'countactivevehiclespurchasedusedeuropean', 'countactivevehiclespurchasedusedamerican', 'countdisposedvehiclesgas', 'countdisposedvehicleshybrid', 'countdisposedvehiclesev', 'countdisposedvehicleslux', 'countdisposedvehiclesnonlux', 'countdisposedvehiclesasian', 'countdisposedvehicleseuropean', 'countdisposedvehiclesamerican', 'pctactivevehiclesluxderived', 'pctallvehiclesluxderived', 'pctluxincreasederived', 'pctactivevehiclessuvderived', 'pctallvehiclessuvderived', 'pctactivevehiclessedanderived', 'pctallvehiclessedanderived', 'pctactivevehiclespickupderived', 'pctallvehiclespickupderived', 'pctactivevehiclesevderived', 'pctallvehiclesevderived', 'pctactivevehiclesgasderived', 'pctallvehiclesgasderived', 'pctactivevehicleshybridderived', 'pctallvehicleshybridderived', 'pctactivevehiclesasianderived', 'pctallvehiclesasianderived', 'pctactivevehicleseuropeanderived', 'pctallvehicleseuropeanderived', 'pctactivevehiclesamericanderived', 'pctallvehiclesamericanderived', 'countallvehiclessamemake', 'countallvehiclessamemakegroup', 'countallvehiclessameregion', 'countallvehiclessameluxcategory', 'countallvehiclessamepower', 'countallvehiclessamebodystyle', 'countactivevehiclessamemake', 'countactivevehiclessamemakegroup', 'countactivevehiclessameregion', 'countactivevehiclessameluxcategory', 'countactivevehiclessamepower', 'countactivevehiclessamebodystyle', 'countactivevehiclespurchasednewsamemake', 'countactivevehiclespurchasednewsamemakegroup', 'countactivevehiclespurchasednewsameregion', 'countactivevehiclespurchasednewsameluxcategory', 'countactivevehiclespurchasednewsamepower', 'countactivevehiclespurchasednewsamebodystyle', 'pctallvehiclessamemakederived', 'pctallvehiclessamemakegroupderived', 'pctallvehiclessameregionderived', 'pctallvehiclessameluxcategoryderived', 'pctallvehiclessamepowerderived', 'pctallvehiclessamebodystylederived', 'pctactivevehiclessamemakederived', 'pctactivevehiclessamemakegroupderived', 'pctactivevehiclessameregionderived', 'pctactivevehiclessameluxcategoryderived', 'pctactivevehiclessamepowerderived', 'pctactivevehiclessamebodystylederived', 'summonthstenureallvehiclessamemake', 'summonthstenureallvehiclessamemakegroup', 'summonthstenureallvehiclessameregion', 'summonthstenureallvehiclessameluxcategory', 'summonthstenureallvehiclessamepower', 'summonthstenureallvehiclessamebodystyle', 'summonthstenureallvehiclesothermake', 'summonthstenureallvehiclesothermakegroup', 'summonthstenureallvehiclesotherregion', 'summonthstenureallvehiclesotherluxcategory', 'summonthstenureallvehiclesotherpower', 'summonthstenureallvehiclesotherbodystyle', 'avgmonthstenureactivevehiclesderived', 'summonthstenureactivevehicles', 'avgmonthstenureallvehiclesderived', 'summonthstenureallvehicles', 'avgmonthstenuredisposedvehiclesderived', 'summonthstenuredisposedvehicles', 'monthstenuremostrecentdisposedvehicle', 'monthstenuresecondmostrecentdisposedvehicle', 'monthstenurethirdmostrecentdisposedvehicle', 'avgmonthstenuremostrecent2disposedvehiclesderived', 'avgmonthstenuremostrecent3disposedvehiclesderived', 'countallveha', 'countallvehb', 'countallvehc', 'countallvehd', 'countdisposedveha', 'countdisposedvehb', 'countdisposedvehc', 'countdisposedvehd', 'countveholdestactive', 'monthstenureactiveveha', 'monthstenureactivevehb', 'monthstenureactivevehc', 'monthstenureactivevehd', 'summonthstenureactiveveholdestactive', 'avgmonthstenureactiveveholdestactive', 'summonthstenureallveha', 'summonthstenureallvehb', 'summonthstenureallvehc', 'summonthstenureallvehd', 'summonthstenuremostrecentdisposedvehiclesgroup', 'countmostrecentdisposedvehiclesgroup', 'summonthstenuresecondmostrecentdisposedvehiclesgroup', 'countmostsecondrecentdisposedvehiclesgroup', 'summonthstenuredisposedveha', 'summonthstenuredisposedvehb', 'summonthstenuredisposedvehc', 'summonthstenuredisposedvehd', 'avgmonthstenureallvehaderived', 'avgmonthstenureallvehbderived', 'avgmonthstenureallvehcderived', 'avgmonthstenureallvehdderived', 'avgmonthstenuremostrecentdisposedvehiclesgroupderived', 'avgmonthstenuresecondmostrecentdisposedvehiclesgroupderived', 'avgmonthstenuredisposedvehaderived', 'avgmonthstenuredisposedvehbderived', 'avgmonthstenuredisposedvehcderived', 'avgmonthstenuredisposedvehdderived', 'remainingmonthstenurevehaderived', 'remainingmonthstenurevehbderived', 'remainingmonthstenurevehcderived', 'remainingmonthstenurevehdderived', 'countvehasamemake', 'countvehbsamemake', 'countvehcsamemake', 'countvehdsamemake', 'countvehasamebody', 'countvehbsamebody', 'countvehcsamebody', 'countvehdsamebody', 'pctvehasamemake', 'pctvehbsamemake', 'pctvehcsamemake', 'pctvehdsamemake', 'pctvehasamebodytype', 'pctvehbsamebodytype', 'pctvehcsamebodytype', 'pctvehdsamebodytype', 'countdisposedvehicles', 'countdisposedvehiclespurchasednew', 'countdisposedvehiclespurchasedused', 'countallvehiclesacura', 'countallvehiclesalfaromeo', 'countallvehiclesastonmartin', 'countallvehiclesaudi', 'countallvehiclesbentley', 'countallvehiclesbmw', 'countallvehiclesbugatti', 'countallvehiclesbuick', 'countallvehiclescadillac', 'countallvehicleschevrolet', 'countallvehicleschrysler', 'countallvehiclesdaihatsu', 'countallvehiclesdodge', 'countallvehiclesferrari', 'countallvehiclesfiat', 'countallvehiclesford', 'countallvehiclesgmc', 'countallvehicleshonda', 'countallvehicleshyundai', 'countallvehiclesinfiniti', 'countallvehiclesjaguar', 'countallvehiclesjeep', 'countallvehicleskia', 'countallvehicleslada', 'countallvehicleslamborghini', 'countallvehicleslancia', 'countallvehicleslandrover', 'countallvehicleslexus', 'countallvehicleslincoln', 'countallvehicleslotus', 'countallvehiclesmaserati', 'countallvehiclesmazda', 'countallvehiclesmclaren', 'countallvehiclesmercedesbenz', 'countallvehiclesmini', 'countallvehiclesmitsubishi', 'countallvehiclesnissan', 'countallvehiclespeugeot', 'countallvehiclespolestar', 'countallvehiclespontiac', 'countallvehiclesporsche', 'countallvehiclesram', 'countallvehiclesrenault', 'countallvehiclesrivian', 'countallvehiclessmart', 'countallvehiclessubaru', 'countallvehiclessuzuki', 'countallvehiclestesla', 'countallvehiclestoyota', 'countallvehiclesvolkswagen', 'countallvehiclesvolvo', 'countallvehiclesbmwgroup', 'countallvehiclesdaimlergroup', 'countallvehiclesfcagroup', 'countallvehiclesfordgroup', 'countallvehiclesgmgroup', 'countallvehicleshondagroup', 'countallvehicleshyundaigroup', 'countallvehiclesjlrgroup', 'countallvehiclesnissangroup', 'countallvehiclestoyotagroup', 'countactivevehiclesacura', 'countactivevehiclesalfaromeo', 'countactivevehiclesastonmartin', 'countactivevehiclesaudi', 'countactivevehiclesbentley', 'countactivevehiclesbmw', 'countactivevehiclesbugatti', 'countactivevehiclesbuick', 'countactivevehiclescadillac', 'countactivevehicleschevrolet', 'countactivevehicleschrysler', 'countactivevehiclesdaihatsu', 'countactivevehiclesdodge', 'countactivevehiclesferrari', 'countactivevehiclesfiat', 'countactivevehiclesford', 'countactivevehiclesgmc', 'countactivevehicleshonda', 'countactivevehicleshyundai', 'countactivevehiclesinfiniti', 'countactivevehiclesjaguar', 'countactivevehiclesjeep', 'countactivevehicleskia', 'countactivevehicleslada', 'countactivevehicleslamborghini', 'countactivevehicleslancia', 'countactivevehicleslandrover', 'countactivevehicleslexus', 'countactivevehicleslincoln', 'countactivevehicleslotus', 'countactivevehiclesmaserati', 'countactivevehiclesmazda', 'countactivevehiclesmclaren', 'countactivevehiclesmercedesbenz', 'countactivevehiclesmini', 'countactivevehiclesmitsubishi', 'countactivevehiclesnissan', 'countactivevehiclespeugeot', 'countactivevehiclespolestar', 'countactivevehiclespontiac', 'countactivevehiclesporsche', 'countactivevehiclesram', 'countactivevehiclesrenault', 'countactivevehiclesrivian', 'countactivevehiclessmart', 'countactivevehiclessubaru', 'countactivevehiclessuzuki', 'countactivevehiclestesla', 'countactivevehiclestoyota', 'countactivevehiclesvolkswagen', 'countactivevehiclesvolvo', 'countactivevehiclesbmwgroup', 'countactivevehiclesdaimlergroup', 'countactivevehiclesfcagroup', 'countactivevehiclesfordgroup', 'countactivevehiclesgmgroup', 'countactivevehicleshondagroup', 'countactivevehicleshyundaigroup', 'countactivevehiclesjlrgroup', 'countactivevehiclesnissangroup', 'countactivevehiclestoyotagroup', 'countallvehiclespurchasednewacura', 'countallvehiclespurchasednewalfaromeo', 'countallvehiclespurchasednewastonmartin', 'countallvehiclespurchasednewaudi', 'countallvehiclespurchasednewbentley', 'countallvehiclespurchasednewbmw', 'countallvehiclespurchasednewbugatti', 'countallvehiclespurchasednewbuick', 'countallvehiclespurchasednewcadillac', 'countallvehiclespurchasednewchevrolet', 'countallvehiclespurchasednewchrysler', 'countallvehiclespurchasednewdaihatsu', 'countallvehiclespurchasednewdodge', 'countallvehiclespurchasednewferrari', 'countallvehiclespurchasednewfiat', 'countallvehiclespurchasednewford', 'countallvehiclespurchasednewgmc', 'countallvehiclespurchasednewhonda', 'countallvehiclespurchasednewhyundai', 'countallvehiclespurchasednewinfiniti', 'countallvehiclespurchasednewjaguar', 'countallvehiclespurchasednewjeep', 'countallvehiclespurchasednewkia', 'countallvehiclespurchasednewlada', 'countallvehiclespurchasednewlamborghini', 'countallvehiclespurchasednewlancia', 'countallvehiclespurchasednewlandrover', 'countallvehiclespurchasednewlexus', 'countallvehiclespurchasednewlincoln', 'countallvehiclespurchasednewlotus', 'countallvehiclespurchasednewmaserati', 'countallvehiclespurchasednewmazda', 'countallvehiclespurchasednewmclaren', 'countallvehiclespurchasednewmercedesbenz', 'countallvehiclespurchasednewmini', 'countallvehiclespurchasednewmitsubishi', 'countallvehiclespurchasednewnissan', 'countallvehiclespurchasednewpeugeot', 'countallvehiclespurchasednewpolestar', 'countallvehiclespurchasednewpontiac', 'countallvehiclespurchasednewporsche', 'countallvehiclespurchasednewram', 'countallvehiclespurchasednewrenault', 'countallvehiclespurchasednewrivian', 'countallvehiclespurchasednewsmart', 'countallvehiclespurchasednewsubaru', 'countallvehiclespurchasednewsuzuki', 'countallvehiclespurchasednewtesla', 'countallvehiclespurchasednewtoyota', 'countallvehiclespurchasednewvolkswagen', 'countallvehiclespurchasednewvolvo', 'countallvehiclespurchasednewbmwgroup', 'countallvehiclespurchasednewdaimlergroup', 'countallvehiclespurchasednewfcagroup', 'countallvehiclespurchasednewfordgroup', 'countallvehiclespurchasednewgmgroup', 'countallvehiclespurchasednewhondagroup', 'countallvehiclespurchasednewhyundaigroup', 'countallvehiclespurchasednewjlrgroup', 'countallvehiclespurchasednewnissangroup', 'countallvehiclespurchasednewtoyotagroup', 'countactivevehiclespurchasednewacura', 'countactivevehiclespurchasednewalfaromeo', 'countactivevehiclespurchasednewastonmartin', 'countactivevehiclespurchasednewaudi', 'countactivevehiclespurchasednewbentley', 'countactivevehiclespurchasednewbmw', 'countactivevehiclespurchasednewbugatti', 'countactivevehiclespurchasednewbuick', 'countactivevehiclespurchasednewcadillac', 'countactivevehiclespurchasednewchevrolet', 'countactivevehiclespurchasednewchrysler', 'countactivevehiclespurchasednewdaihatsu', 'countactivevehiclespurchasednewdodge', 'countactivevehiclespurchasednewferrari', 'countactivevehiclespurchasednewfiat', 'countactivevehiclespurchasednewford', 'countactivevehiclespurchasednewgmc', 'countactivevehiclespurchasednewhonda', 'countactivevehiclespurchasednewhyundai', 'countactivevehiclespurchasednewinfiniti', 'countactivevehiclespurchasednewjaguar', 'countactivevehiclespurchasednewjeep', 'countactivevehiclespurchasednewkia', 'countactivevehiclespurchasednewlada', 'countactivevehiclespurchasednewlamborghini', 'countactivevehiclespurchasednewlancia', 'countactivevehiclespurchasednewlandrover', 'countactivevehiclespurchasednewlexus', 'countactivevehiclespurchasednewlincoln', 'countactivevehiclespurchasednewlotus', 'countactivevehiclespurchasednewmaserati', 'countactivevehiclespurchasednewmazda', 'countactivevehiclespurchasednewmclaren', 'countactivevehiclespurchasednewmercedesbenz', 'countactivevehiclespurchasednewmini', 'countactivevehiclespurchasednewmitsubishi', 'countactivevehiclespurchasednewnissan', 'countactivevehiclespurchasednewpeugeot', 'countactivevehiclespurchasednewpolestar', 'countactivevehiclespurchasednewpontiac', 'countactivevehiclespurchasednewporsche', 'countactivevehiclespurchasednewram', 'countactivevehiclespurchasednewrenault', 'countactivevehiclespurchasednewrivian', 'countactivevehiclespurchasednewsmart', 'countactivevehiclespurchasednewsubaru', 'countactivevehiclespurchasednewsuzuki', 'countactivevehiclespurchasednewtesla', 'countactivevehiclespurchasednewtoyota', 'countactivevehiclespurchasednewvolkswagen', 'countactivevehiclespurchasednewvolvo', 'countactivevehiclespurchasednewbmwgroup', 'countactivevehiclespurchasednewdaimlergroup', 'countactivevehiclespurchasednewfcagroup', 'countactivevehiclespurchasednewfordgroup', 'countactivevehiclespurchasednewgmgroup', 'countactivevehiclespurchasednewhondagroup', 'countactivevehiclespurchasednewhyundaigroup', 'countactivevehiclespurchasednewjlrgroup', 'countactivevehiclespurchasednewnissangroup', 'countactivevehiclespurchasednewtoyotagroup', 'countallvehiclespurchasedusedacura', 'countallvehiclespurchasedusedalfaromeo', 'countallvehiclespurchasedusedastonmartin', 'countallvehiclespurchasedusedaudi', 'countallvehiclespurchasedusedbentley', 'countallvehiclespurchasedusedbmw', 'countallvehiclespurchasedusedbugatti', 'countallvehiclespurchasedusedbuick', 'countallvehiclespurchasedusedcadillac', 'countallvehiclespurchasedusedchevrolet', 'countallvehiclespurchasedusedchrysler', 'countallvehiclespurchaseduseddaihatsu', 'countallvehiclespurchaseduseddodge', 'countallvehiclespurchasedusedferrari', 'countallvehiclespurchasedusedfiat', 'countallvehiclespurchasedusedford', 'countallvehiclespurchasedusedgmc', 'countallvehiclespurchasedusedhonda', 'countallvehiclespurchasedusedhyundai', 'countallvehiclespurchasedusedinfiniti', 'countallvehiclespurchasedusedjaguar', 'countallvehiclespurchasedusedjeep', 'countallvehiclespurchasedusedkia', 'countallvehiclespurchasedusedlada', 'countallvehiclespurchasedusedlamborghini', 'countallvehiclespurchasedusedlancia', 'countallvehiclespurchasedusedlandrover', 'countallvehiclespurchasedusedlexus', 'countallvehiclespurchasedusedlincoln', 'countallvehiclespurchasedusedlotus', 'countallvehiclespurchasedusedmaserati', 'countallvehiclespurchasedusedmazda', 'countallvehiclespurchasedusedmclaren', 'countallvehiclespurchasedusedmercedesbenz', 'countallvehiclespurchasedusedmini', 'countallvehiclespurchasedusedmitsubishi', 'countallvehiclespurchasedusednissan', 'countallvehiclespurchasedusedpeugeot', 'countallvehiclespurchasedusedpolestar', 'countallvehiclespurchasedusedpontiac', 'countallvehiclespurchasedusedporsche', 'countallvehiclespurchasedusedram', 'countallvehiclespurchasedusedrenault', 'countallvehiclespurchasedusedrivian', 'countallvehiclespurchasedusedsmart', 'countallvehiclespurchasedusedsubaru', 'countallvehiclespurchasedusedsuzuki', 'countallvehiclespurchasedusedtesla', 'countallvehiclespurchasedusedtoyota', 'countallvehiclespurchasedusedvolkswagen', 'countallvehiclespurchasedusedvolvo', 'countallvehiclespurchasedusedbmwgroup', 'countallvehiclespurchaseduseddaimlergroup', 'countallvehiclespurchasedusedfcagroup', 'countallvehiclespurchasedusedfordgroup', 'countallvehiclespurchasedusedgmgroup', 'countallvehiclespurchasedusedhondagroup', 'countallvehiclespurchasedusedhyundaigroup', 'countallvehiclespurchasedusedjlrgroup', 'countallvehiclespurchasedusednissangroup', 'countallvehiclespurchasedusedtoyotagroup', 'countactivevehiclespurchasedusedacura', 'countactivevehiclespurchasedusedalfaromeo', 'countactivevehiclespurchasedusedastonmartin', 'countactivevehiclespurchasedusedaudi', 'countactivevehiclespurchasedusedbentley', 'countactivevehiclespurchasedusedbmw', 'countactivevehiclespurchasedusedbugatti', 'countactivevehiclespurchasedusedbuick', 'countactivevehiclespurchasedusedcadillac', 'countactivevehiclespurchasedusedchevrolet', 'countactivevehiclespurchasedusedchrysler', 'countactivevehiclespurchaseduseddaihatsu', 'countactivevehiclespurchaseduseddodge', 'countactivevehiclespurchasedusedferrari', 'countactivevehiclespurchasedusedfiat', 'countactivevehiclespurchasedusedford', 'countactivevehiclespurchasedusedgmc', 'countactivevehiclespurchasedusedhonda', 'countactivevehiclespurchasedusedhyundai', 'countactivevehiclespurchasedusedinfiniti', 'countactivevehiclespurchasedusedjaguar', 'countactivevehiclespurchasedusedjeep', 'countactivevehiclespurchasedusedkia', 'countactivevehiclespurchasedusedlada', 'countactivevehiclespurchasedusedlamborghini', 'countactivevehiclespurchasedusedlancia', 'countactivevehiclespurchasedusedlandrover', 'countactivevehiclespurchasedusedlexus', 'countactivevehiclespurchasedusedlincoln', 'countactivevehiclespurchasedusedlotus', 'countactivevehiclespurchasedusedmaserati', 'countactivevehiclespurchasedusedmazda', 'countactivevehiclespurchasedusedmclaren', 'countactivevehiclespurchasedusedmercedesbenz', 'countactivevehiclespurchasedusedmini', 'countactivevehiclespurchasedusedmitsubishi', 'countactivevehiclespurchasedusednissan', 'countactivevehiclespurchasedusedpeugeot', 'countactivevehiclespurchasedusedpolestar', 'countactivevehiclespurchasedusedpontiac', 'countactivevehiclespurchasedusedporsche', 'countactivevehiclespurchasedusedram', 'countactivevehiclespurchasedusedrenault', 'countactivevehiclespurchasedusedrivian', 'countactivevehiclespurchasedusedsmart', 'countactivevehiclespurchasedusedsubaru', 'countactivevehiclespurchasedusedsuzuki', 'countactivevehiclespurchasedusedtesla', 'countactivevehiclespurchasedusedtoyota', 'countactivevehiclespurchasedusedvolkswagen', 'countactivevehiclespurchasedusedvolvo', 'countactivevehiclespurchasedusedbmwgroup', 'countactivevehiclespurchaseduseddaimlergroup', 'countactivevehiclespurchasedusedfcagroup', 'countactivevehiclespurchasedusedfordgroup', 'countactivevehiclespurchasedusedgmgroup', 'countactivevehiclespurchasedusedhondagroup', 'countactivevehiclespurchasedusedhyundaigroup', 'countactivevehiclespurchasedusedjlrgroup', 'countactivevehiclespurchasedusednissangroup', 'countactivevehiclespurchasedusedtoyotagroup', 'countdisposedvehiclesacura', 'countdisposedvehiclesalfaromeo', 'countdisposedvehiclesastonmartin', 'countdisposedvehiclesaudi', 'countdisposedvehiclesbentley', 'countdisposedvehiclesbmw', 'countdisposedvehiclesbugatti', 'countdisposedvehiclesbuick', 'countdisposedvehiclescadillac', 'countdisposedvehicleschevrolet', 'countdisposedvehicleschrysler', 'countdisposedvehiclesdaihatsu', 'countdisposedvehiclesdodge', 'countdisposedvehiclesferrari', 'countdisposedvehiclesfiat', 'countdisposedvehiclesford', 'countdisposedvehiclesgmc', 'countdisposedvehicleshonda', 'countdisposedvehicleshyundai', 'countdisposedvehiclesinfiniti', 'countdisposedvehiclesjaguar', 'countdisposedvehiclesjeep', 'countdisposedvehicleskia', 'countdisposedvehicleslada', 'countdisposedvehicleslamborghini', 'countdisposedvehicleslancia', 'countdisposedvehicleslandrover', 'countdisposedvehicleslexus', 'countdisposedvehicleslincoln', 'countdisposedvehicleslotus', 'countdisposedvehiclesmaserati', 'countdisposedvehiclesmazda', 'countdisposedvehiclesmclaren', 'countdisposedvehiclesmercedesbenz', 'countdisposedvehiclesmini', 'countdisposedvehiclesmitsubishi', 'countdisposedvehiclesnissan', 'countdisposedvehiclespeugeot', 'countdisposedvehiclespolestar', 'countdisposedvehiclespontiac', 'countdisposedvehiclesporsche', 'countdisposedvehiclesram', 'countdisposedvehiclesrenault', 'countdisposedvehiclesrivian', 'countdisposedvehiclessmart', 'countdisposedvehiclessubaru', 'countdisposedvehiclessuzuki', 'countdisposedvehiclestesla', 'countdisposedvehiclestoyota', 'countdisposedvehiclesvolkswagen', 'countdisposedvehiclesvolvo', 'countdisposedvehiclesbmwgroup', 'countdisposedvehiclesdaimlergroup', 'countdisposedvehiclesfcagroup', 'countdisposedvehiclesfordgroup', 'countdisposedvehiclesgmgroup', 'countdisposedvehicleshondagroup', 'countdisposedvehicleshyundaigroup', 'countdisposedvehiclesjlrgroup', 'countdisposedvehiclesnissangroup', 'countdisposedvehiclestoyotagroup', 'countdisposedvehiclespurchasednewacura', 'countdisposedvehiclespurchasednewalfaromeo', 'countdisposedvehiclespurchasednewastonmartin', 'countdisposedvehiclespurchasednewaudi', 'countdisposedvehiclespurchasednewbentley', 'countdisposedvehiclespurchasednewbmw', 'countdisposedvehiclespurchasednewbugatti', 'countdisposedvehiclespurchasednewbuick', 'countdisposedvehiclespurchasednewcadillac', 'countdisposedvehiclespurchasednewchevrolet', 'countdisposedvehiclespurchasednewchrysler', 'countdisposedvehiclespurchasednewdaihatsu', 'countdisposedvehiclespurchasednewdodge', 'countdisposedvehiclespurchasednewferrari', 'countdisposedvehiclespurchasednewfiat', 'countdisposedvehiclespurchasednewford', 'countdisposedvehiclespurchasednewgmc', 'countdisposedvehiclespurchasednewhonda', 'countdisposedvehiclespurchasednewhyundai', 'countdisposedvehiclespurchasednewinfiniti', 'countdisposedvehiclespurchasednewjaguar', 'countdisposedvehiclespurchasednewjeep', 'countdisposedvehiclespurchasednewkia', 'countdisposedvehiclespurchasednewlada', 'countdisposedvehiclespurchasednewlamborghini', 'countdisposedvehiclespurchasednewlancia', 'countdisposedvehiclespurchasednewlandrover', 'countdisposedvehiclespurchasednewlexus', 'countdisposedvehiclespurchasednewlincoln', 'countdisposedvehiclespurchasednewlotus', 'countdisposedvehiclespurchasednewmaserati', 'countdisposedvehiclespurchasednewmazda', 'countdisposedvehiclespurchasednewmclaren', 'countdisposedvehiclespurchasednewmercedesbenz', 'countdisposedvehiclespurchasednewmini', 'countdisposedvehiclespurchasednewmitsubishi', 'countdisposedvehiclespurchasednewnissan', 'countdisposedvehiclespurchasednewpeugeot', 'countdisposedvehiclespurchasednewpolestar', 'countdisposedvehiclespurchasednewpontiac', 'countdisposedvehiclespurchasednewporsche', 'countdisposedvehiclespurchasednewram', 'countdisposedvehiclespurchasednewrenault', 'countdisposedvehiclespurchasednewrivian', 'countdisposedvehiclespurchasednewsmart', 'countdisposedvehiclespurchasednewsubaru', 'countdisposedvehiclespurchasednewsuzuki', 'countdisposedvehiclespurchasednewtesla', 'countdisposedvehiclespurchasednewtoyota', 'countdisposedvehiclespurchasednewvolkswagen', 'countdisposedvehiclespurchasednewvolvo', 'countdisposedvehiclespurchasednewbmwgroup', 'countdisposedvehiclespurchasednewdaimlergroup', 'countdisposedvehiclespurchasednewfcagroup', 'countdisposedvehiclespurchasednewfordgroup', 'countdisposedvehiclespurchasednewgmgroup', 'countdisposedvehiclespurchasednewhondagroup', 'countdisposedvehiclespurchasednewhyundaigroup', 'countdisposedvehiclespurchasednewjlrgroup', 'countdisposedvehiclespurchasednewnissangroup', 'countdisposedvehiclespurchasednewtoyotagroup', 'countdisposedvehiclespurchasedusedacura', 'countdisposedvehiclespurchasedusedalfaromeo', 'countdisposedvehiclespurchasedusedastonmartin', 'countdisposedvehiclespurchasedusedaudi', 'countdisposedvehiclespurchasedusedbentley', 'countdisposedvehiclespurchasedusedbmw', 'countdisposedvehiclespurchasedusedbugatti', 'countdisposedvehiclespurchasedusedbuick', 'countdisposedvehiclespurchasedusedcadillac', 'countdisposedvehiclespurchasedusedchevrolet', 'countdisposedvehiclespurchasedusedchrysler', 'countdisposedvehiclespurchaseduseddaihatsu', 'countdisposedvehiclespurchaseduseddodge', 'countdisposedvehiclespurchasedusedferrari', 'countdisposedvehiclespurchasedusedfiat', 'countdisposedvehiclespurchasedusedford', 'countdisposedvehiclespurchasedusedgmc', 'countdisposedvehiclespurchasedusedhonda', 'countdisposedvehiclespurchasedusedhyundai', 'countdisposedvehiclespurchasedusedinfiniti', 'countdisposedvehiclespurchasedusedjaguar', 'countdisposedvehiclespurchasedusedjeep', 'countdisposedvehiclespurchasedusedkia', 'countdisposedvehiclespurchasedusedlada', 'countdisposedvehiclespurchasedusedlamborghini', 'countdisposedvehiclespurchasedusedlancia', 'countdisposedvehiclespurchasedusedlandrover', 'countdisposedvehiclespurchasedusedlexus', 'countdisposedvehiclespurchasedusedlincoln', 'countdisposedvehiclespurchasedusedlotus', 'countdisposedvehiclespurchasedusedmaserati', 'countdisposedvehiclespurchasedusedmazda', 'countdisposedvehiclespurchasedusedmclaren', 'countdisposedvehiclespurchasedusedmercedesbenz', 'countdisposedvehiclespurchasedusedmini', 'countdisposedvehiclespurchasedusedmitsubishi', 'countdisposedvehiclespurchasedusednissan', 'countdisposedvehiclespurchasedusedpeugeot', 'countdisposedvehiclespurchasedusedpolestar', 'countdisposedvehiclespurchasedusedpontiac', 'countdisposedvehiclespurchasedusedporsche', 'countdisposedvehiclespurchasedusedram', 'countdisposedvehiclespurchasedusedrenault', 'countdisposedvehiclespurchasedusedrivian', 'countdisposedvehiclespurchasedusedsmart', 'countdisposedvehiclespurchasedusedsubaru', 'countdisposedvehiclespurchasedusedsuzuki', 'countdisposedvehiclespurchasedusedtesla', 'countdisposedvehiclespurchasedusedtoyota', 'countdisposedvehiclespurchasedusedvolkswagen', 'countdisposedvehiclespurchasedusedvolvo', 'countdisposedvehiclespurchasedusedbmwgroup', 'countdisposedvehiclespurchaseduseddaimlergroup', 'countdisposedvehiclespurchasedusedfcagroup', 'countdisposedvehiclespurchasedusedfordgroup', 'countdisposedvehiclespurchasedusedgmgroup', 'countdisposedvehiclespurchasedusedhondagroup', 'countdisposedvehiclespurchasedusedhyundaigroup', 'countdisposedvehiclespurchasedusedjlrgroup', 'countdisposedvehiclespurchasedusednissangroup', 'countdisposedvehiclespurchasedusedtoyotagroup', 'pctactivevehiclesacuraderived', 'pctactivevehiclesalfaromeoderived', 'pctactivevehiclesastonmartinderived', 'pctactivevehiclesaudiderived', 'pctactivevehiclesbentleyderived', 'pctactivevehiclesbmwderived', 'pctactivevehiclesbugattiderived', 'pctactivevehiclesbuickderived', 'pctactivevehiclescadillacderived', 'pctactivevehicleschevroletderived', 'pctactivevehicleschryslerderived', 'pctactivevehiclesdaihatsuderived', 'pctactivevehiclesdodgederived', 'pctactivevehiclesferrariderived', 'pctactivevehiclesfiatderived', 'pctactivevehiclesfordderived', 'pctactivevehiclesgmcderived', 'pctactivevehicleshondaderived', 'pctactivevehicleshyundaiderived', 'pctactivevehiclesinfinitiderived', 'pctactivevehiclesjaguarderived', 'pctactivevehiclesjeepderived', 'pctactivevehicleskiaderived', 'pctactivevehiclesladaderived', 'pctactivevehicleslamborghiniderived', 'pctactivevehicleslanciaderived', 'pctactivevehicleslandroverderived', 'pctactivevehicleslexusderived', 'pctactivevehicleslincolnderived', 'pctactivevehicleslotusderived', 'pctactivevehiclesmaseratiderived', 'pctactivevehiclesmazdaderived', 'pctactivevehiclesmclarenderived', 'pctactivevehiclesmercedesbenzderived', 'pctactivevehiclesminiderived', 'pctactivevehiclesmitsubishiderived', 'pctactivevehiclesnissanderived', 'pctactivevehiclespeugeotderived', 'pctactivevehiclespolestarderived', 'pctactivevehiclespontiacderived', 'pctactivevehiclesporschederived', 'pctactivevehiclesramderived', 'pctactivevehiclesrenaultderived', 'pctactivevehiclesrivianderived', 'pctactivevehiclessmartderived', 'pctactivevehiclessubaruderived', 'pctactivevehiclessuzukiderived', 'pctactivevehiclestesladerived', 'pctactivevehiclestoyotaderived', 'pctactivevehiclesvolkswagenderived', 'pctactivevehiclesvolvoderived', 'pctactivevehiclesbmwgroupderived', 'pctactivevehiclesdaimlergroupderived', 'pctactivevehiclesfcagroupderived', 'pctactivevehiclesfordgroupderived', 'pctactivevehiclesgmgroupderived', 'pctactivevehicleshondagroupderived', 'pctactivevehicleshyundaigroupderived', 'pctactivevehiclesjlrgroupderived', 'pctactivevehiclesnissangroupderived', 'pctactivevehiclestoyotagroupderived', 'countactivedrivers', 'countalldriversaddedpast1mth', 'countalldriversaddedpast2mths', 'countalldriversaddedpast3mths', 'countalldriversaddedpast6mths', 'countalldriversaddedpast12mths', 'countalldriversaddedpast24mths', 'countalldriversaddedpast36mths', 'countalldriversaddedpast48mths', 'countalldriversaddedpast60mths', 'countalldriversremovedpast1mth', 'countalldriversremovedpast2mths', 'countalldriversremovedpast3mths', 'countalldriversremovedpast6mths', 'countalldriversremovedpast12mths', 'countalldriversremovedpast24mths', 'countalldriversremovedpast36mths', 'countalldriversremovedpast48mths', 'countalldriversremovedpast60mths']\n"
     ]
    }
   ],
   "source": [
    "# Read the GarageAttributes file\n",
    "import os\n",
    "with open(os.getcwd() + '/GarageAttributes', 'r') as file:\n",
    "    garage_attributes = file.read().splitlines()\n",
    "# Print the list of garage attribute names\n",
    "print(garage_attributes)"
   ]
  },
  {
   "cell_type": "code",
   "execution_count": 5,
   "metadata": {},
   "outputs": [],
   "source": [
    "# get value of woe when variable is 'statecode' and bin is missing\n",
    "colum = 'statecode'\n",
    "missing_woe = OneMonthbins[OneMonthbins['variable'] == colum]['woe'].iloc[0]\n",
    "# fill missing values in 'statecode' with missing_woe\n",
    "colum = colum + '_woe'\n",
    "train_woe[colum] = train_woe[colum].fillna(missing_woe)\n",
    "valid_woe[colum] = valid_woe[colum].fillna(missing_woe)\n",
    "test_woe[colum] = test_woe[colum].fillna(missing_woe)"
   ]
  },
  {
   "cell_type": "code",
   "execution_count": 51,
   "metadata": {},
   "outputs": [
    {
     "name": "stdout",
     "output_type": "stream",
     "text": [
      "['statecode_woe', 'months_paying_woe', 'combined_age_woe', 'base_price_woe', 'appfeatures_woe']\n",
      "train lift: 3.6679513509766206\n",
      "test lift: 3.412203808180536\n"
     ]
    }
   ],
   "source": [
    "# Train\n",
    "base_features = [\"statecode_woe\", \"months_paying_woe\", \"combined_age_woe\", \"base_price_woe\", \"appfeatures_woe\"]\n",
    "\n",
    "model = linear_model.LogisticRegression()\n",
    "model.fit(train_woe[base_features], train_woe['OneMonth_target'])\n",
    "# return probability of each row in test\n",
    "prob = model.predict_proba(valid_woe[base_features])\n",
    "# return probability of 1\n",
    "prob = [p[1] for p in prob]\n",
    "# sort prob in order\n",
    "valid_woe['prob'] = prob\n",
    "valid_woe.sort_values(by='prob', ascending=True, inplace=True)\n",
    "# group rows into 10 groups with same number of rows\n",
    "valid_woe['group'] = pd.qcut(valid_woe['prob'], 10, labels=False)\n",
    "valid_woe['OneMonth_target_Cnt'] = valid_woe['OneMonth_target']\n",
    "\n",
    "# group by group, calculate the sum of OneMonth_target and count of OneMonth_target\n",
    "test_group = valid_woe.groupby('group').agg({'OneMonth_target': 'sum', 'OneMonth_target_Cnt': 'count'}).reset_index()\n",
    "# calculate rate of OneMonth_target by OneMonth_target /  pred\n",
    "test_group['rate'] = test_group['OneMonth_target'] / test_group['OneMonth_target_Cnt']\n",
    "# get rate of OneMonth_target from group as 0\n",
    "rate_0_ = test_group[test_group['group'] == 0]['rate'].values[0]\n",
    "rate_9_ = test_group[test_group['group'] == 9]['rate'].values[0]\n",
    "\n",
    "# return probability of each row in test\n",
    "prob = model.predict_proba(test_woe[base_features])\n",
    "# return probability of 1\n",
    "prob = [p[1] for p in prob]\n",
    "# sort prob in order\n",
    "test_woe['prob'] = prob\n",
    "test_woe.sort_values(by='prob', ascending=True, inplace=True)\n",
    "# group rows into 10 groups with same number of rows\n",
    "test_woe['group'] = pd.qcut(test_woe['prob'], 10, labels=False)\n",
    "test_woe['OneMonth_target_Cnt'] = test_woe['OneMonth_target']\n",
    "\n",
    "# group by group, calculate the sum of OneMonth_target and count of OneMonth_target\n",
    "test_group = test_woe.groupby('group').agg({'OneMonth_target': 'sum', 'OneMonth_target_Cnt': 'count'}).reset_index()\n",
    "# calculate rate of OneMonth_target by OneMonth_target /  pred\n",
    "test_group['rate'] = test_group['OneMonth_target'] / test_group['OneMonth_target_Cnt']\n",
    "# get rate of OneMonth_target from group as 0\n",
    "rate_0 = test_group[test_group['group'] == 0]['rate'].values[0]\n",
    "rate_9 = test_group[test_group['group'] == 9]['rate'].values[0]\n",
    "\n",
    "print(base_features)\n",
    "print('train lift:', rate_9_ / rate_0_) \n",
    "print('test lift:', rate_9 / rate_0) "
   ]
  },
  {
   "cell_type": "code",
   "execution_count": 12,
   "metadata": {},
   "outputs": [
    {
     "name": "stdout",
     "output_type": "stream",
     "text": [
      "['state_woe', 'months_paying_woe', 'age_drv_woe', 'base_price_woe', 'appfeatures_woe', 'countallvehiclesgasaddedpast6mths_woe']\n",
      "train lift: 3.9655643231592594\n",
      "test lift: 3.4352116503117918\n"
     ]
    }
   ],
   "source": [
    "# Train\n",
    "base_features = [\"state_woe\", \"months_paying_woe\", \"age_drv_woe\", \"base_price_woe\", \"appfeatures_woe\", \n",
    "                 'countallvehiclesgasaddedpast6mths_woe']\n",
    "\n",
    "model = linear_model.LogisticRegression()\n",
    "model.fit(train_woe[base_features], train_woe['OneMonth_target'])\n",
    "# return probability of each row in test\n",
    "prob = model.predict_proba(valid_woe[base_features])\n",
    "# return probability of 1\n",
    "prob = [p[1] for p in prob]\n",
    "# sort prob in order\n",
    "valid_woe['prob'] = prob\n",
    "valid_woe.sort_values(by='prob', ascending=True, inplace=True)\n",
    "# group rows into 10 groups with same number of rows\n",
    "valid_woe['group'] = pd.qcut(valid_woe['prob'], 10, labels=False)\n",
    "valid_woe['OneMonth_target_Cnt'] = valid_woe['OneMonth_target']\n",
    "\n",
    "# group by group, calculate the sum of OneMonth_target and count of OneMonth_target\n",
    "test_group = valid_woe.groupby('group').agg({'OneMonth_target': 'sum', 'OneMonth_target_Cnt': 'count'}).reset_index()\n",
    "# calculate rate of OneMonth_target by OneMonth_target /  pred\n",
    "test_group['rate'] = test_group['OneMonth_target'] / test_group['OneMonth_target_Cnt']\n",
    "# get rate of OneMonth_target from group as 0\n",
    "rate_0_ = test_group[test_group['group'] == 0]['rate'].values[0]\n",
    "rate_9_ = test_group[test_group['group'] == 9]['rate'].values[0]\n",
    "\n",
    "# return probability of each row in test\n",
    "prob = model.predict_proba(test_woe[base_features])\n",
    "# return probability of 1\n",
    "prob = [p[1] for p in prob]\n",
    "# sort prob in order\n",
    "test_woe['prob'] = prob\n",
    "test_woe.sort_values(by='prob', ascending=True, inplace=True)\n",
    "# group rows into 10 groups with same number of rows\n",
    "test_woe['group'] = pd.qcut(test_woe['prob'], 10, labels=False)\n",
    "test_woe['OneMonth_target_Cnt'] = test_woe['OneMonth_target']\n",
    "\n",
    "# group by group, calculate the sum of OneMonth_target and count of OneMonth_target\n",
    "test_group = test_woe.groupby('group').agg({'OneMonth_target': 'sum', 'OneMonth_target_Cnt': 'count'}).reset_index()\n",
    "# calculate rate of OneMonth_target by OneMonth_target /  pred\n",
    "test_group['rate'] = test_group['OneMonth_target'] / test_group['OneMonth_target_Cnt']\n",
    "# get rate of OneMonth_target from group as 0\n",
    "rate_0 = test_group[test_group['group'] == 0]['rate'].values[0]\n",
    "rate_9 = test_group[test_group['group'] == 9]['rate'].values[0]\n",
    "\n",
    "print(base_features)\n",
    "print('train lift:', rate_9_ / rate_0_) \n",
    "print('test lift:', rate_9 / rate_0) "
   ]
  },
  {
   "cell_type": "code",
   "execution_count": 13,
   "metadata": {},
   "outputs": [
    {
     "name": "stdout",
     "output_type": "stream",
     "text": [
      "['state_woe', 'months_paying_woe', 'age_drv_woe', 'base_price_woe', 'appfeatures_woe', 'countallvehiclesgasaddedpast6mths_woe', 'curraddrmedianincome_woe']\n",
      "train lift: 4.0769697212791005\n",
      "test lift: 3.521669111284109\n"
     ]
    }
   ],
   "source": [
    "# Train\n",
    "base_features = [\"state_woe\", \"months_paying_woe\", \"age_drv_woe\", \"base_price_woe\", \"appfeatures_woe\", \n",
    "                 'countallvehiclesgasaddedpast6mths_woe', 'curraddrmedianincome_woe']\n",
    "\n",
    "model = linear_model.LogisticRegression()\n",
    "model.fit(train_woe[base_features], train_woe['OneMonth_target'])\n",
    "# return probability of each row in test\n",
    "prob = model.predict_proba(valid_woe[base_features])\n",
    "# return probability of 1\n",
    "prob = [p[1] for p in prob]\n",
    "# sort prob in order\n",
    "valid_woe['prob'] = prob\n",
    "valid_woe.sort_values(by='prob', ascending=True, inplace=True)\n",
    "# group rows into 10 groups with same number of rows\n",
    "valid_woe['group'] = pd.qcut(valid_woe['prob'], 10, labels=False)\n",
    "valid_woe['OneMonth_target_Cnt'] = valid_woe['OneMonth_target']\n",
    "\n",
    "# group by group, calculate the sum of OneMonth_target and count of OneMonth_target\n",
    "test_group = valid_woe.groupby('group').agg({'OneMonth_target': 'sum', 'OneMonth_target_Cnt': 'count'}).reset_index()\n",
    "# calculate rate of OneMonth_target by OneMonth_target /  pred\n",
    "test_group['rate'] = test_group['OneMonth_target'] / test_group['OneMonth_target_Cnt']\n",
    "# get rate of OneMonth_target from group as 0\n",
    "rate_0_ = test_group[test_group['group'] == 0]['rate'].values[0]\n",
    "rate_9_ = test_group[test_group['group'] == 9]['rate'].values[0]\n",
    "\n",
    "# return probability of each row in test\n",
    "prob = model.predict_proba(test_woe[base_features])\n",
    "# return probability of 1\n",
    "prob = [p[1] for p in prob]\n",
    "# sort prob in order\n",
    "test_woe['prob'] = prob\n",
    "test_woe.sort_values(by='prob', ascending=True, inplace=True)\n",
    "# group rows into 10 groups with same number of rows\n",
    "test_woe['group'] = pd.qcut(test_woe['prob'], 10, labels=False)\n",
    "test_woe['OneMonth_target_Cnt'] = test_woe['OneMonth_target']\n",
    "\n",
    "# group by group, calculate the sum of OneMonth_target and count of OneMonth_target\n",
    "test_group = test_woe.groupby('group').agg({'OneMonth_target': 'sum', 'OneMonth_target_Cnt': 'count'}).reset_index()\n",
    "# calculate rate of OneMonth_target by OneMonth_target /  pred\n",
    "test_group['rate'] = test_group['OneMonth_target'] / test_group['OneMonth_target_Cnt']\n",
    "# get rate of OneMonth_target from group as 0\n",
    "rate_0 = test_group[test_group['group'] == 0]['rate'].values[0]\n",
    "rate_9 = test_group[test_group['group'] == 9]['rate'].values[0]\n",
    "\n",
    "print(base_features)\n",
    "print('train lift:', rate_9_ / rate_0_) \n",
    "print('test lift:', rate_9 / rate_0) "
   ]
  },
  {
   "cell_type": "code",
   "execution_count": 6,
   "metadata": {},
   "outputs": [
    {
     "name": "stderr",
     "output_type": "stream",
     "text": [
      "/tmp/ipykernel_42777/2192605326.py:12: PerformanceWarning: DataFrame is highly fragmented.  This is usually the result of calling `frame.insert` many times, which has poor performance.  Consider joining all columns at once using pd.concat(axis=1) instead. To get a de-fragmented frame, use `newframe = frame.copy()`\n",
      "  valid_woe['prob'] = prob\n",
      "/tmp/ipykernel_42777/2192605326.py:15: PerformanceWarning: DataFrame is highly fragmented.  This is usually the result of calling `frame.insert` many times, which has poor performance.  Consider joining all columns at once using pd.concat(axis=1) instead. To get a de-fragmented frame, use `newframe = frame.copy()`\n",
      "  valid_woe['group'] = pd.qcut(valid_woe['prob'], 10, labels=False)\n",
      "/tmp/ipykernel_42777/2192605326.py:16: PerformanceWarning: DataFrame is highly fragmented.  This is usually the result of calling `frame.insert` many times, which has poor performance.  Consider joining all columns at once using pd.concat(axis=1) instead. To get a de-fragmented frame, use `newframe = frame.copy()`\n",
      "  valid_woe['OneMonth_target_Cnt'] = valid_woe['OneMonth_target']\n",
      "/tmp/ipykernel_42777/2192605326.py:31: PerformanceWarning: DataFrame is highly fragmented.  This is usually the result of calling `frame.insert` many times, which has poor performance.  Consider joining all columns at once using pd.concat(axis=1) instead. To get a de-fragmented frame, use `newframe = frame.copy()`\n",
      "  test_woe['prob'] = prob\n"
     ]
    },
    {
     "name": "stdout",
     "output_type": "stream",
     "text": [
      "['state_woe', 'months_paying_woe', 'age_drv_woe', 'base_price_woe', 'appfeatures_woe', 'countallvehiclesgasaddedpast6mths_woe', 'curraddrmedianincome_woe']\n",
      "train lift: 4.0769697212791005\n",
      "test lift: 3.521669111284109\n"
     ]
    },
    {
     "name": "stderr",
     "output_type": "stream",
     "text": [
      "/tmp/ipykernel_42777/2192605326.py:34: PerformanceWarning: DataFrame is highly fragmented.  This is usually the result of calling `frame.insert` many times, which has poor performance.  Consider joining all columns at once using pd.concat(axis=1) instead. To get a de-fragmented frame, use `newframe = frame.copy()`\n",
      "  test_woe['group'] = pd.qcut(test_woe['prob'], 10, labels=False)\n",
      "/tmp/ipykernel_42777/2192605326.py:35: PerformanceWarning: DataFrame is highly fragmented.  This is usually the result of calling `frame.insert` many times, which has poor performance.  Consider joining all columns at once using pd.concat(axis=1) instead. To get a de-fragmented frame, use `newframe = frame.copy()`\n",
      "  test_woe['OneMonth_target_Cnt'] = test_woe['OneMonth_target']\n"
     ]
    }
   ],
   "source": [
    "# Train\n",
    "base_features = [\"state_woe\", \"months_paying_woe\", \"age_drv_woe\", \"base_price_woe\", \"appfeatures_woe\", \n",
    "                 'countallvehiclesgasaddedpast6mths_woe', 'curraddrmedianincome_woe']\n",
    "\n",
    "model = linear_model.LogisticRegression()\n",
    "model.fit(train_woe[base_features], train_woe['OneMonth_target'])\n",
    "# return probability of each row in test\n",
    "prob = model.predict_proba(valid_woe[base_features])\n",
    "# return probability of 1\n",
    "prob = [p[1] for p in prob]\n",
    "# sort prob in order\n",
    "valid_woe['prob'] = prob\n",
    "valid_woe.sort_values(by='prob', ascending=True, inplace=True)\n",
    "# group rows into 10 groups with same number of rows\n",
    "valid_woe['group'] = pd.qcut(valid_woe['prob'], 10, labels=False)\n",
    "valid_woe['OneMonth_target_Cnt'] = valid_woe['OneMonth_target']\n",
    "\n",
    "# group by group, calculate the sum of OneMonth_target and count of OneMonth_target\n",
    "test_group = valid_woe.groupby('group').agg({'OneMonth_target': 'sum', 'OneMonth_target_Cnt': 'count'}).reset_index()\n",
    "# calculate rate of OneMonth_target by OneMonth_target /  pred\n",
    "test_group['rate'] = test_group['OneMonth_target'] / test_group['OneMonth_target_Cnt']\n",
    "# get rate of OneMonth_target from group as 0\n",
    "rate_0_ = test_group[test_group['group'] == 0]['rate'].values[0]\n",
    "rate_9_ = test_group[test_group['group'] == 9]['rate'].values[0]\n",
    "\n",
    "# return probability of each row in test\n",
    "prob = model.predict_proba(test_woe[base_features])\n",
    "# return probability of 1\n",
    "prob = [p[1] for p in prob]\n",
    "# sort prob in order\n",
    "test_woe['prob'] = prob\n",
    "test_woe.sort_values(by='prob', ascending=True, inplace=True)\n",
    "# group rows into 10 groups with same number of rows\n",
    "test_woe['group'] = pd.qcut(test_woe['prob'], 10, labels=False)\n",
    "test_woe['OneMonth_target_Cnt'] = test_woe['OneMonth_target']\n",
    "\n",
    "# group by group, calculate the sum of OneMonth_target and count of OneMonth_target\n",
    "test_group = test_woe.groupby('group').agg({'OneMonth_target': 'sum', 'OneMonth_target_Cnt': 'count'}).reset_index()\n",
    "# calculate rate of OneMonth_target by OneMonth_target /  pred\n",
    "test_group['rate'] = test_group['OneMonth_target'] / test_group['OneMonth_target_Cnt']\n",
    "# get rate of OneMonth_target from group as 0\n",
    "rate_0 = test_group[test_group['group'] == 0]['rate'].values[0]\n",
    "rate_9 = test_group[test_group['group'] == 9]['rate'].values[0]\n",
    "\n",
    "print(base_features)\n",
    "print('train lift:', rate_9_ / rate_0_) \n",
    "print('test lift:', rate_9 / rate_0) "
   ]
  },
  {
   "cell_type": "code",
   "execution_count": 9,
   "metadata": {},
   "outputs": [
    {
     "data": {
      "image/png": "[encoded data removed]",
      "text/plain": [
       "<Figure size 640x480 with 1 Axes>"
      ]
     },
     "metadata": {},
     "output_type": "display_data"
    }
   ],
   "source": [
    "# get roc curve for the model on both train and test\n",
    "from sklearn.metrics import roc_curve\n",
    "import matplotlib.pyplot as plt\n",
    "fpr, tpr, thresholds = roc_curve(train_woe['OneMonth_target'], model.predict_proba(train_woe[base_features])[:,1])\n",
    "plt.plot(fpr, tpr)\n",
    "fpr, tpr, thresholds = roc_curve(test_woe['OneMonth_target'], model.predict_proba(test_woe[base_features])[:,1])\n",
    "plt.plot(fpr, tpr)\n",
    "plt.plot([0, 1], [0, 1], color='navy', lw=1, linestyle='--')\n",
    "plt.show()"
   ]
  },
  {
   "cell_type": "code",
   "execution_count": 11,
   "metadata": {},
   "outputs": [
    {
     "name": "stdout",
     "output_type": "stream",
     "text": [
      "train f1: 0.0021160576218767803\n",
      "test f1: 0.002809646452821353\n"
     ]
    }
   ],
   "source": [
    "# get f1 score for the model on both train and test\n",
    "from sklearn.metrics import f1_score\n",
    "print('train f1:', f1_score(train_woe['OneMonth_target'], model.predict(train_woe[base_features])))\n",
    "print('test f1:', f1_score(test_woe['OneMonth_target'], model.predict(test_woe[base_features])))"
   ]
  },
  {
   "cell_type": "code",
   "execution_count": 19,
   "metadata": {},
   "outputs": [
    {
     "name": "stdout",
     "output_type": "stream",
     "text": [
      "state_woe 3.9556385375618253\n",
      "months_paying_woe 2.4978584074729797\n",
      "age_drv_woe 3.5104633536810197\n",
      "base_price_woe 3.73567335243553\n",
      "appfeatures_woe 3.333636666253031\n",
      "countallvehiclesgasaddedpast6mths_woe 3.9986004230957817\n",
      "curraddrmedianincome_woe 3.9655643231592594\n"
     ]
    }
   ],
   "source": [
    "base_features = [\"state_woe\", \"months_paying_woe\", \"age_drv_woe\", \"base_price_woe\", \"appfeatures_woe\", \n",
    "                 'countallvehiclesgasaddedpast6mths_woe', 'curraddrmedianincome_woe']\n",
    "dict = {}\n",
    "best_rate = 0\n",
    "best_col = ''\n",
    "for col in base_features:\n",
    "    base_features.remove(col)\n",
    "    model = linear_model.LogisticRegression()\n",
    "    model.fit(train_woe[base_features], train_woe['OneMonth_target'])\n",
    "    # return probability of each row in test\n",
    "    prob = model.predict_proba(valid_woe[base_features])\n",
    "    # return probability of 1\n",
    "    prob = [p[1] for p in prob]\n",
    "    # sort prob in order\n",
    "    valid_woe['prob'] = prob\n",
    "    valid_woe.sort_values(by='prob', ascending=True, inplace=True)\n",
    "    # group rows into 10 groups with same number of rows\n",
    "    valid_woe['group'] = pd.qcut(valid_woe['prob'], 10, labels=False)\n",
    "    valid_woe['OneMonth_target_Cnt'] = valid_woe['OneMonth_target']\n",
    "\n",
    "    # group by group, calculate the sum of OneMonth_target and count of OneMonth_target\n",
    "    test_group = valid_woe.groupby('group').agg({'OneMonth_target': 'sum', 'OneMonth_target_Cnt': 'count'}).reset_index()\n",
    "    # calculate rate of OneMonth_target by OneMonth_target /  pred\n",
    "    test_group['rate'] = test_group['OneMonth_target'] / test_group['OneMonth_target_Cnt']\n",
    "    # get rate of OneMonth_target from group as 0\n",
    "    rate_0 = test_group[test_group['group'] == 0]['rate'].values[0]\n",
    "    rate_9 = test_group[test_group['group'] == 9]['rate'].values[0]\n",
    "    rate_9 / rate_0\n",
    "    print(col, rate_9 / rate_0)\n",
    "    dict[col] = rate_9 / rate_0\n",
    "    if rate_9 / rate_0 > best_rate:\n",
    "        best_rate = rate_9 / rate_0\n",
    "        best_col = col\n",
    "    # add the column back to first position\n",
    "    base_features.insert(0, col)"
   ]
  },
  {
   "cell_type": "code",
   "execution_count": 35,
   "metadata": {},
   "outputs": [
    {
     "name": "stdout",
     "output_type": "stream",
     "text": [
      "primary_package_id\n",
      "countallvehiclesvolkswagen\n",
      "countactivevehiclesvolkswagen\n",
      "countallvehiclespurchasednewvolkswagen\n",
      "countactivevehiclespurchasednewvolkswagen\n",
      "countallvehiclespurchasedusedvolkswagen\n",
      "countactivevehiclespurchasedusedvolkswagen\n",
      "countdisposedvehiclesvolkswagen\n",
      "countdisposedvehiclespurchasednewvolkswagen\n",
      "countdisposedvehiclespurchasedusedvolkswagen\n",
      "pctactivevehiclesvolkswagenderived\n",
      "special_usage_flag\n",
      "exact_age_p1\n",
      "combined_age_indicator\n",
      "age_in_years_drv_numeric\n",
      "home_land_square_footage\n",
      "home_land_front_footage\n",
      "home_land_depth_footage\n",
      "home_building_square_footage\n",
      "home_base_square_footage\n",
      "oo_home_mortgage_amt\n",
      "mortgage_term_in_months\n",
      "refi_mortgage_amt\n",
      "mortgage_amount_in_thousands2\n",
      "dl_cppm_mortgage_term\n",
      "cfi_mortgage_refinance_score\n",
      "inq_mortgage\n",
      "v1_prospectage\n",
      "v1_hhteenagermmbrcnt\n",
      "v1_hhmiddleagemmbrcnt\n",
      "v1_raateenagemmbrcnt\n",
      "v1_raamiddleagemmbrcnt\n",
      "source_usage\n",
      "age_drv\n",
      "mortgage_age\n",
      "age_16_24_in_hh\n",
      "coveragetier\n",
      "mortgage_protection_model\n",
      "mortgage_protection_decile\n",
      "combined_age\n",
      "combined_age_source\n",
      "veh_age\n",
      "vehicle_age\n"
     ]
    }
   ],
   "source": [
    "# find any column with state in it\n",
    "for col in train.columns:\n",
    "    if 'age' in col:\n",
    "        print(col)"
   ]
  },
  {
   "cell_type": "code",
   "execution_count": 48,
   "metadata": {},
   "outputs": [
    {
     "data": {
      "text/html": [
       "<div>\n",
       "<style scoped>\n",
       "    .dataframe tbody tr th:only-of-type {\n",
       "        vertical-align: middle;\n",
       "    }\n",
       "\n",
       "    .dataframe tbody tr th {\n",
       "        vertical-align: top;\n",
       "    }\n",
       "\n",
       "    .dataframe thead th {\n",
       "        text-align: right;\n",
       "    }\n",
       "</style>\n",
       "<table border=\"1\" class=\"dataframe\">\n",
       "  <thead>\n",
       "    <tr style=\"text-align: right;\">\n",
       "      <th></th>\n",
       "      <th>features</th>\n",
       "      <th>coefficients</th>\n",
       "      <th>p_values</th>\n",
       "    </tr>\n",
       "  </thead>\n",
       "  <tbody>\n",
       "    <tr>\n",
       "      <th>0</th>\n",
       "      <td>intercept</td>\n",
       "      <td>-1.170349</td>\n",
       "      <td>0.000000e+00</td>\n",
       "    </tr>\n",
       "    <tr>\n",
       "      <th>1</th>\n",
       "      <td>statecode_woe</td>\n",
       "      <td>0.963276</td>\n",
       "      <td>0.000000e+00</td>\n",
       "    </tr>\n",
       "    <tr>\n",
       "      <th>2</th>\n",
       "      <td>months_paying_woe</td>\n",
       "      <td>0.895269</td>\n",
       "      <td>0.000000e+00</td>\n",
       "    </tr>\n",
       "    <tr>\n",
       "      <th>3</th>\n",
       "      <td>combined_age_woe</td>\n",
       "      <td>0.816164</td>\n",
       "      <td>0.000000e+00</td>\n",
       "    </tr>\n",
       "    <tr>\n",
       "      <th>4</th>\n",
       "      <td>base_price_woe</td>\n",
       "      <td>0.738878</td>\n",
       "      <td>0.000000e+00</td>\n",
       "    </tr>\n",
       "    <tr>\n",
       "      <th>5</th>\n",
       "      <td>appfeatures_woe</td>\n",
       "      <td>1.303823</td>\n",
       "      <td>0.000000e+00</td>\n",
       "    </tr>\n",
       "    <tr>\n",
       "      <th>6</th>\n",
       "      <td>vehicle_age_woe</td>\n",
       "      <td>0.186623</td>\n",
       "      <td>1.116884e-13</td>\n",
       "    </tr>\n",
       "  </tbody>\n",
       "</table>\n",
       "</div>"
      ],
      "text/plain": [
       "            features  coefficients      p_values\n",
       "0          intercept     -1.170349  0.000000e+00\n",
       "1      statecode_woe      0.963276  0.000000e+00\n",
       "2  months_paying_woe      0.895269  0.000000e+00\n",
       "3   combined_age_woe      0.816164  0.000000e+00\n",
       "4     base_price_woe      0.738878  0.000000e+00\n",
       "5    appfeatures_woe      1.303823  0.000000e+00\n",
       "6    vehicle_age_woe      0.186623  1.116884e-13"
      ]
     },
     "execution_count": 48,
     "metadata": {},
     "output_type": "execute_result"
    }
   ],
   "source": [
    "import numpy as np\n",
    "from scipy import stats\n",
    "import pandas as pd\n",
    "\n",
    "# p value\n",
    "# remove rows wuth missing values\n",
    "valid_woe.dropna(inplace=True)\n",
    "params = np.append(model.intercept_, model.coef_)\n",
    "predictions = model.predict(valid_woe[base_features])\n",
    "newX = np.append(np.ones((len(valid_woe), 1)), valid_woe[base_features], axis=1)\n",
    "MSE = (sum((valid_woe['OneMonth_target'] - predictions) ** 2)) / (len(newX) - len(newX[0]))\n",
    "\n",
    "# Compute the dot product\n",
    "matrix = np.dot(newX.T, newX)\n",
    "\n",
    "# Check if the matrix is singular\n",
    "if np.linalg.det(matrix) != 0:\n",
    "    inv_matrix = np.linalg.inv(matrix)\n",
    "else:\n",
    "    inv_matrix = np.linalg.pinv(matrix)\n",
    "\n",
    "var_b = MSE * inv_matrix.diagonal()\n",
    "sd_b = np.sqrt(var_b)\n",
    "ts_b = params / sd_b\n",
    "p_values = [2 * (1 - stats.t.cdf(np.abs(i), (len(newX) - 1))) for i in ts_b]\n",
    "\n",
    "# summary\n",
    "summary = pd.DataFrame()\n",
    "summary[\"features\"] = ['intercept'] + base_features\n",
    "summary[\"coefficients\"] = params\n",
    "summary[\"p_values\"] = p_values\n",
    "summary"
   ]
  }
 ],
 "metadata": {
  "kernelspec": {
   "display_name": "cc_py310_chenha01",
   "language": "python",
   "name": "python3"
  },
  "language_info": {
   "codemirror_mode": {
    "name": "ipython",
    "version": 3
   },
   "file_extension": ".py",
   "mimetype": "text/x-python",
   "name": "python",
   "nbconvert_exporter": "python",
   "pygments_lexer": "ipython3",
   "version": "3.10.14"
  }
 },
 "nbformat": 4,
 "nbformat_minor": 2
}
